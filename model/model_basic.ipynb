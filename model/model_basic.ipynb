{
 "cells": [
  {
   "cell_type": "code",
   "execution_count": 11,
   "id": "22d71441",
   "metadata": {},
   "outputs": [
    {
     "name": "stdout",
     "output_type": "stream",
     "text": [
      "[LightGBM] [Info] Number of positive: 11607, number of negative: 27034\n",
      "[LightGBM] [Info] Auto-choosing col-wise multi-threading, the overhead of testing was 0.001014 seconds.\n",
      "You can set `force_col_wise=true` to remove the overhead.\n",
      "[LightGBM] [Info] Total Bins 2040\n",
      "[LightGBM] [Info] Number of data points in the train set: 38641, number of used features: 8\n",
      "[LightGBM] [Info] [binary:BoostFromScore]: pavg=0.300380 -> initscore=-0.845487\n",
      "[LightGBM] [Info] Start training from score -0.845487\n"
     ]
    }
   ],
   "source": [
    "import pandas as pd\n",
    "from xgboost import XGBClassifier\n",
    "from lightgbm import LGBMClassifier\n",
    "from sklearn.model_selection import train_test_split\n",
    "from sklearn.metrics import classification_report, confusion_matrix, f1_score, accuracy_score\n",
    "\n",
    "# 1. Đọc dữ liệu\n",
    "df = pd.read_csv(r'D:\\dow\\project\\data\\processed_iot_dataset.csv')\n",
    "\n",
    "# 2. Chọn feature và label \n",
    "drop_cols = ['Sensor_ID', 'Fault_Type', 'Year', 'Month', 'Day', 'Hour', 'Minute']\n",
    "feature_cols = [c for c in df.columns if c not in drop_cols + ['Fault_Status']]\n",
    "X = df[feature_cols]\n",
    "y = df['Fault_Status']\n",
    "\n",
    "# 3. Chia train/test (80/20)\n",
    "X_train, X_test, y_train, y_test = train_test_split(X, y, test_size=0.2, random_state=42, stratify=y)\n",
    "\n",
    "# 4. Khởi tạo model\n",
    "xgb_model = XGBClassifier(use_label_encoder=False, eval_metric='logloss', random_state=42)\n",
    "lgbm_model = LGBMClassifier(random_state=42)\n",
    "\n",
    "# 5. Huấn luyện model\n",
    "xgb_model.fit(X_train, y_train)\n",
    "lgbm_model.fit(X_train, y_train)\n",
    "\n",
    "# 6. Dự đoán\n",
    "y_pred_xgb = xgb_model.predict(X_test)\n",
    "y_pred_lgbm = lgbm_model.predict(X_test)\n"
   ]
  },
  {
   "cell_type": "code",
   "execution_count": 12,
   "id": "811392fe",
   "metadata": {},
   "outputs": [
    {
     "name": "stdout",
     "output_type": "stream",
     "text": [
      "=== XGBoost ===\n",
      "              precision    recall  f1-score   support\n",
      "\n",
      "           0       0.70      0.96      0.81      6759\n",
      "           1       0.33      0.04      0.08      2902\n",
      "\n",
      "    accuracy                           0.69      9661\n",
      "   macro avg       0.52      0.50      0.44      9661\n",
      "weighted avg       0.59      0.69      0.59      9661\n",
      "\n",
      "Confusion Matrix:\n",
      " [[6511  248]\n",
      " [2779  123]]\n",
      "Accuracy: 0.6866783976813995\n",
      "F1-score: 0.5902392398659582\n"
     ]
    }
   ],
   "source": [
    "# 7. Đánh giá kết quả\n",
    "print(\"=== XGBoost ===\")\n",
    "print(classification_report(y_test, y_pred_xgb))\n",
    "print(\"Confusion Matrix:\\n\", confusion_matrix(y_test, y_pred_xgb))\n",
    "print(\"Accuracy:\", accuracy_score(y_test, y_pred_xgb))\n",
    "print(\"F1-score:\", f1_score(y_test, y_pred_xgb, average='weighted'))\n"
   ]
  },
  {
   "cell_type": "code",
   "execution_count": 13,
   "id": "9a3db76d",
   "metadata": {},
   "outputs": [
    {
     "name": "stdout",
     "output_type": "stream",
     "text": [
      "\n",
      "=== LightGBM ===\n",
      "              precision    recall  f1-score   support\n",
      "\n",
      "           0       0.70      1.00      0.82      6759\n",
      "           1       0.35      0.00      0.00      2902\n",
      "\n",
      "    accuracy                           0.70      9661\n",
      "   macro avg       0.52      0.50      0.41      9661\n",
      "weighted avg       0.59      0.70      0.58      9661\n",
      "\n",
      "Confusion Matrix:\n",
      " [[6746   13]\n",
      " [2895    7]]\n",
      "Accuracy: 0.6989959631508126\n",
      "F1-score: 0.5770021817266819\n"
     ]
    }
   ],
   "source": [
    "print(\"\\n=== LightGBM ===\")\n",
    "print(classification_report(y_test, y_pred_lgbm))\n",
    "print(\"Confusion Matrix:\\n\", confusion_matrix(y_test, y_pred_lgbm))\n",
    "print(\"Accuracy:\", accuracy_score(y_test, y_pred_lgbm))\n",
    "print(\"F1-score:\", f1_score(y_test, y_pred_lgbm, average='weighted'))"
   ]
  }
 ],
 "metadata": {
  "kernelspec": {
   "display_name": "Python 3",
   "language": "python",
   "name": "python3"
  },
  "language_info": {
   "codemirror_mode": {
    "name": "ipython",
    "version": 3
   },
   "file_extension": ".py",
   "mimetype": "text/x-python",
   "name": "python",
   "nbconvert_exporter": "python",
   "pygments_lexer": "ipython3",
   "version": "3.10.0"
  }
 },
 "nbformat": 4,
 "nbformat_minor": 5
}
